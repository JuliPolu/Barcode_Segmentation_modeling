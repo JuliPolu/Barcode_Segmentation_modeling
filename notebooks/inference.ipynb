{
 "cells": [
  {
   "cell_type": "code",
   "execution_count": 28,
   "id": "e377b576",
   "metadata": {},
   "outputs": [
    {
     "name": "stdout",
     "output_type": "stream",
     "text": [
      "The autoreload extension is already loaded. To reload it, use:\n",
      "  %reload_ext autoreload\n"
     ]
    }
   ],
   "source": [
    "%load_ext autoreload\n",
    "%autoreload 2"
   ]
  },
  {
   "cell_type": "code",
   "execution_count": 29,
   "id": "b6bb7090",
   "metadata": {},
   "outputs": [],
   "source": [
    "from IPython.core.interactiveshell import InteractiveShell\n",
    "InteractiveShell.ast_node_interactivity = 'all'\n",
    "\n",
    "import warnings\n",
    "warnings.simplefilter('ignore')\n",
    "\n",
    "import os\n",
    "from pprint import pprint\n",
    "\n",
    "import cv2\n",
    "import torch\n",
    "import numpy as np\n",
    "import pandas as pd\n",
    "import matplotlib.pyplot as plt\n",
    "\n",
    "from lightning_module import SegmentModule"
   ]
  },
  {
   "cell_type": "code",
   "execution_count": 30,
   "id": "f100b5d8",
   "metadata": {},
   "outputs": [],
   "source": [
    "# DEVICE = 'cuda:0' if torch.cuda.is_available else 'cpu'\n",
    "DEVICE = 'cpu'\n",
    "DATA_PATH = '../data'"
   ]
  },
  {
   "cell_type": "code",
   "execution_count": 31,
   "id": "247496b6",
   "metadata": {},
   "outputs": [],
   "source": [
    "# Загружаем модель\n",
    "\n",
    "checkpoint_name = '..\\\\experiments\\\\unet_resnet34_d_f_320\\\\epoch_epoch=27-val_IoU=0.889.ckpt'\n",
    "module = SegmentModule.load_from_checkpoint(checkpoint_name, map_location=torch.device('cpu'))\n",
    "\n",
    "_ = module.eval()\n",
    "_ = module.to(DEVICE)"
   ]
  },
  {
   "cell_type": "code",
   "execution_count": 32,
   "id": "ed8cfc39",
   "metadata": {
    "scrolled": true
   },
   "outputs": [
    {
     "data": {
      "text/plain": [
       "['x_from', 'y_from', 'width', 'height']"
      ]
     },
     "execution_count": 32,
     "metadata": {},
     "output_type": "execute_result"
    },
    {
     "data": {
      "text/html": [
       "<div>\n",
       "<style scoped>\n",
       "    .dataframe tbody tr th:only-of-type {\n",
       "        vertical-align: middle;\n",
       "    }\n",
       "\n",
       "    .dataframe tbody tr th {\n",
       "        vertical-align: top;\n",
       "    }\n",
       "\n",
       "    .dataframe thead th {\n",
       "        text-align: right;\n",
       "    }\n",
       "</style>\n",
       "<table border=\"1\" class=\"dataframe\">\n",
       "  <thead>\n",
       "    <tr style=\"text-align: right;\">\n",
       "      <th></th>\n",
       "      <th>filename</th>\n",
       "      <th>x_from</th>\n",
       "      <th>y_from</th>\n",
       "      <th>width</th>\n",
       "      <th>height</th>\n",
       "    </tr>\n",
       "  </thead>\n",
       "  <tbody>\n",
       "    <tr>\n",
       "      <th>0</th>\n",
       "      <td>images/fb1ec415-58e8-4374-97a9-d0e37fd5a225--r...</td>\n",
       "      <td>48</td>\n",
       "      <td>617</td>\n",
       "      <td>496</td>\n",
       "      <td>338</td>\n",
       "    </tr>\n",
       "    <tr>\n",
       "      <th>1</th>\n",
       "      <td>images/e97ed90b-6c78-43ee-9d63-e145f65c1eb7--r...</td>\n",
       "      <td>322</td>\n",
       "      <td>619</td>\n",
       "      <td>458</td>\n",
       "      <td>219</td>\n",
       "    </tr>\n",
       "  </tbody>\n",
       "</table>\n",
       "</div>"
      ],
      "text/plain": [
       "                                            filename  x_from  y_from  width  \\\n",
       "0  images/fb1ec415-58e8-4374-97a9-d0e37fd5a225--r...      48     617    496   \n",
       "1  images/e97ed90b-6c78-43ee-9d63-e145f65c1eb7--r...     322     619    458   \n",
       "\n",
       "   height  \n",
       "0     338  \n",
       "1     219  "
      ]
     },
     "execution_count": 32,
     "metadata": {},
     "output_type": "execute_result"
    }
   ],
   "source": [
    "# Загружаем данные\n",
    "df = pd.read_csv('..\\\\data\\\\df_test.csv')\n",
    "names = list(df.columns[1:])\n",
    "names\n",
    "df.head(2)"
   ]
  },
  {
   "cell_type": "code",
   "execution_count": 33,
   "id": "c77b5237",
   "metadata": {},
   "outputs": [],
   "source": [
    "# препроцессинг данных \n",
    "from augmentations import get_transforms\n",
    "test_transforms = get_transforms(width=320, height=320, encoder = 'resnet34', augmentations=False)"
   ]
  },
  {
   "cell_type": "code",
   "execution_count": 42,
   "metadata": {},
   "outputs": [],
   "source": [
    "def mask_postprocesing(prob_mask, threshold):\n",
    "    mask = (prob_mask > threshold).astype(np.uint8)\n",
    "    mask = mask.transpose(1, 2, 0)\n",
    "    num_labels, labels_im = cv2.connectedComponents(mask)\n",
    "    max_size = 0\n",
    "    max_label = 0\n",
    "    for label in range(1, num_labels):\n",
    "        component = (labels_im == label).astype(np.uint8)\n",
    "        size = cv2.countNonZero(component)\n",
    "        if size > max_size:\n",
    "            max_size = size\n",
    "            max_label = label\n",
    "\n",
    "    largest_component_mask = (labels_im == max_label).astype(np.uint8)\n",
    "\n",
    "    largest_component_mask = (largest_component_mask > 0).astype(np.uint8)\n",
    "    return largest_component_mask"
   ]
  },
  {
   "cell_type": "code",
   "execution_count": 45,
   "metadata": {},
   "outputs": [
    {
     "name": "stderr",
     "output_type": "stream",
     "text": [
      "Clipping input data to the valid range for imshow with RGB data ([0..1] for floats or [0..255] for integers).\n"
     ]
    },
    {
     "data": {
      "image/png": "[encoded data removed]",
      "text/plain": [
       "<Figure size 640x480 with 3 Axes>"
      ]
     },
     "metadata": {},
     "output_type": "display_data"
    }
   ],
   "source": [
    "idx = 10\n",
    "image_name = os.path.normpath(os.path.join(DATA_PATH, df[\"filename\"][idx]))\n",
    "image = cv2.imread(image_name)\n",
    "image = cv2.cvtColor(image, cv2.COLOR_BGR2RGB)\n",
    "procecces_image = test_transforms(image=image)['image']\n",
    "procecces_image = procecces_image.float()\n",
    "with torch.no_grad():\n",
    "    prob_mask = torch.sigmoid(module(procecces_image[None].to(DEVICE)))[0].cpu().numpy()\n",
    "    \n",
    "mask = mask_postprocesing(prob_mask, 0.5)\n",
    "procecces_image = procecces_image.permute(1, 2, 0)\n",
    "plt.subplot(1,3,1)\n",
    "plt.axis(\"off\")\n",
    "plt.imshow(procecces_image.squeeze())\n",
    "plt.subplot(1,3,2)\n",
    "plt.axis(\"off\")\n",
    "plt.imshow(prob_mask.squeeze(), cmap='gray')\n",
    "plt.subplot(1,3,3)\n",
    "plt.axis(\"off\")\n",
    "plt.imshow(mask.squeeze(), cmap='gray')\n",
    "plt.show();"
   ]
  },
  {
   "cell_type": "code",
   "execution_count": null,
   "id": "e8f91407",
   "metadata": {},
   "outputs": [],
   "source": []
  }
 ],
 "metadata": {
  "kernelspec": {
   "display_name": "Python 3 (ipykernel)",
   "language": "python",
   "name": "python3"
  },
  "language_info": {
   "codemirror_mode": {
    "name": "ipython",
    "version": 3
   },
   "file_extension": ".py",
   "mimetype": "text/x-python",
   "name": "python",
   "nbconvert_exporter": "python",
   "pygments_lexer": "ipython3",
   "version": "3.9.10"
  }
 },
 "nbformat": 4,
 "nbformat_minor": 5
}
