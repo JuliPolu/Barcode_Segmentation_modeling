{
 "cells": [
  {
   "cell_type": "code",
   "execution_count": 29,
   "metadata": {},
   "outputs": [
    {
     "name": "stdout",
     "output_type": "stream",
     "text": [
      "The autoreload extension is already loaded. To reload it, use:\n",
      "  %reload_ext autoreload\n"
     ]
    }
   ],
   "source": [
    "import os\n",
    "import torch\n",
    "import cv2\n",
    "import pandas as pd\n",
    "import matplotlib.pyplot as plt\n",
    "import pytorch_lightning as pl\n",
    "import segmentation_models_pytorch as smp\n",
    "\n",
    "from pprint import pprint\n",
    "from torch.utils.data import DataLoader\n",
    "\n",
    "from src.dataset import SegmentationDataset\n",
    "\n",
    "from src.dataset_splitter import split_subsets\n",
    "\n",
    "%load_ext autoreload\n",
    "%autoreload 2"
   ]
  },
  {
   "cell_type": "code",
   "execution_count": null,
   "metadata": {},
   "outputs": [],
   "source": [
    "# Example usage\n",
    "image_directory = 'C:\\Users\\julia\\CV\\01-SEGMENTATION\\data'\n",
    "dataset = SegmentationDataset(df, image_directory)\n",
    "dataloader = DataLoader(dataset, batch_size=4, shuffle=True)"
   ]
  },
  {
   "cell_type": "code",
   "execution_count": 26,
   "metadata": {},
   "outputs": [
    {
     "name": "stdout",
     "output_type": "stream",
     "text": [
      "Image size: (1333, 1000)\n"
     ]
    }
   ],
   "source": [
    "image_directory = 'C:/Users/julia/CV/01-SEGMENTATION/data'\n",
    "dataframe = pd.read_csv('data/annotations.tsv', sep='\\t')\n",
    "image_path = os.path.join(image_directory, dataframe['filename'].iloc[0])\n",
    "image_path = os.path.normpath(image_path)\n",
    "image_path\n",
    "# Check if the file exists\n",
    "if not os.path.exists(image_path):\n",
    "    print(\"The file does not exist at the specified path.\")\n",
    "else:\n",
    "    image = cv2.imread(image_path)\n",
    "    if image is None:\n",
    "        print(\"Failed to load the image.\")\n",
    "    else:\n",
    "        image = cv2.cvtColor(image, cv2.COLOR_BGR2RGB)\n",
    "        print(\"Image size:\", image.shape[:2])"
   ]
  },
  {
   "cell_type": "code",
   "execution_count": 41,
   "metadata": {},
   "outputs": [
    {
     "data": {
      "text/plain": [
       "(54, 6)"
      ]
     },
     "execution_count": 41,
     "metadata": {},
     "output_type": "execute_result"
    }
   ],
   "source": []
  },
  {
   "cell_type": "markdown",
   "metadata": {},
   "source": []
  }
 ],
 "metadata": {
  "kernelspec": {
   "display_name": "venv",
   "language": "python",
   "name": "python3"
  },
  "language_info": {
   "codemirror_mode": {
    "name": "ipython",
    "version": 3
   },
   "file_extension": ".py",
   "mimetype": "text/x-python",
   "name": "python",
   "nbconvert_exporter": "python",
   "pygments_lexer": "ipython3",
   "version": "3.9.10"
  }
 },
 "nbformat": 4,
 "nbformat_minor": 2
}
